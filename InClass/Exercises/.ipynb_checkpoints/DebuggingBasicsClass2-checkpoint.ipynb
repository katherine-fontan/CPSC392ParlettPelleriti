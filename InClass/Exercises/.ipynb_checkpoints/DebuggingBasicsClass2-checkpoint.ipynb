{
 "cells": [
  {
   "cell_type": "code",
   "execution_count": 3,
   "metadata": {},
   "outputs": [],
   "source": [
    "import pandas as pd\n",
    "import numpy as np"
   ]
  },
  {
   "cell_type": "markdown",
   "metadata": {},
   "source": [
    "# Examples"
   ]
  },
  {
   "cell_type": "code",
   "execution_count": 1,
   "metadata": {},
   "outputs": [],
   "source": [
    "def squareMyNumber(n):\n",
    "    square = n*n\n",
    "    return square\n",
    "\n",
    "k = squareMyNumber(6)\n",
    "\n",
    "# If I have 6 friends, and we all bring enough treats for everyone, we'll have k treats!\n",
    "# If each treat costs $1.50, how much did we spend?\n",
    "\n",
    "spent = k * 1.5"
   ]
  },
  {
   "cell_type": "code",
   "execution_count": 21,
   "metadata": {},
   "outputs": [
    {
     "ename": "NameError",
     "evalue": "name 'mySentnce' is not defined",
     "output_type": "error",
     "traceback": [
      "\u001b[0;31m---------------------------------------------------------------------------\u001b[0m",
      "\u001b[0;31mNameError\u001b[0m                                 Traceback (most recent call last)",
      "\u001b[0;32m<ipython-input-21-0687be2cae72>\u001b[0m in \u001b[0;36m<module>\u001b[0;34m\u001b[0m\n\u001b[1;32m      1\u001b[0m \u001b[0mmySentence\u001b[0m \u001b[0;34m=\u001b[0m \u001b[0;34m\"You know, like a liar.\"\u001b[0m\u001b[0;34m\u001b[0m\u001b[0;34m\u001b[0m\u001b[0m\n\u001b[1;32m      2\u001b[0m \u001b[0;34m\u001b[0m\u001b[0m\n\u001b[0;32m----> 3\u001b[0;31m \u001b[0;32mfor\u001b[0m \u001b[0mletter\u001b[0m \u001b[0;32min\u001b[0m \u001b[0mmySentnce\u001b[0m\u001b[0;34m:\u001b[0m\u001b[0;34m\u001b[0m\u001b[0;34m\u001b[0m\u001b[0m\n\u001b[0m\u001b[1;32m      4\u001b[0m     \u001b[0;32mif\u001b[0m \u001b[0mletter\u001b[0m \u001b[0;34m==\u001b[0m \u001b[0;34m\"l\"\u001b[0m\u001b[0;34m:\u001b[0m\u001b[0;34m\u001b[0m\u001b[0;34m\u001b[0m\u001b[0m\n\u001b[1;32m      5\u001b[0m         \u001b[0mprint\u001b[0m\u001b[0;34m(\u001b[0m\u001b[0;34m\"It's an l!!!\"\u001b[0m\u001b[0;34m)\u001b[0m\u001b[0;34m\u001b[0m\u001b[0;34m\u001b[0m\u001b[0m\n",
      "\u001b[0;31mNameError\u001b[0m: name 'mySentnce' is not defined"
     ]
    }
   ],
   "source": [
    "mySentenceIsTheBestSentence = \"You know, like a liar.\"\n",
    "\n",
    "for letter in mySentenceIsTheBestSentence:\n",
    "    if letter == \"l\":\n",
    "        print(\"It's an l!!!\")"
   ]
  },
  {
   "cell_type": "code",
   "execution_count": 2,
   "metadata": {},
   "outputs": [
    {
     "data": {
      "text/plain": [
       "' The Project Gutenberg EBook of Pride and Prejudice, by Jane Austen  This eBook is for the use of a'"
      ]
     },
     "execution_count": 2,
     "metadata": {},
     "output_type": "execute_result"
    }
   ],
   "source": [
    "with open('/Users/katherinefontan/Documents/Chapman_University/CPSC392/CPSC392ParlettPelleriti/Data/PrideAndPrejudice.txt', 'r') as prideAndPrejudice:\n",
    "    data = prideAndPrejudice.read().replace('\\n', ' ')\n",
    "data[1:100]"
   ]
  },
  {
   "cell_type": "code",
   "execution_count": 3,
   "metadata": {},
   "outputs": [
    {
     "name": "stdout",
     "output_type": "stream",
     "text": [
      "Chelsea gets an A+!!!\n",
      "Dan gets an A+!!!\n",
      "Craig gets an A+!!!\n",
      "Tony gets an A+!!!\n",
      "Blake gets an A+!!!\n",
      "Cynthia gets an A+!!!\n",
      "Julie gets an A+!!!\n"
     ]
    }
   ],
   "source": [
    "names = [\"Chelsea\", \"Dan\", \"Craig\", \"Tony\", \"Blake\", \"Cynthia\", \"Julie\"]\n",
    "\n",
    "for name in names:\n",
    "    print(name + \" gets an A+!!!\")"
   ]
  },
  {
   "cell_type": "code",
   "execution_count": 4,
   "metadata": {},
   "outputs": [],
   "source": [
    "mySentence = \"Can a bee be said to be or not to be an entire bee if half the bee is not a bee due to an ancient injury?\"\n",
    "\n",
    "words = mySentence"
   ]
  }
 ],
 "metadata": {
  "kernelspec": {
   "display_name": "Python 3",
   "language": "python",
   "name": "python3"
  },
  "language_info": {
   "codemirror_mode": {
    "name": "ipython",
    "version": 3
   },
   "file_extension": ".py",
   "mimetype": "text/x-python",
   "name": "python",
   "nbconvert_exporter": "python",
   "pygments_lexer": "ipython3",
   "version": "3.9.1"
  }
 },
 "nbformat": 4,
 "nbformat_minor": 4
}
